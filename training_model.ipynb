{
  "cells": [
    {
      "cell_type": "markdown",
      "metadata": {
        "id": "view-in-github",
        "colab_type": "text"
      },
      "source": [
        "<a href=\"https://colab.research.google.com/github/Nichiel/rubbish_classifier/blob/main/training_model.ipynb\" target=\"_parent\"><img src=\"https://colab.research.google.com/assets/colab-badge.svg\" alt=\"Open In Colab\"/></a>"
      ]
    },
    {
      "cell_type": "code",
      "execution_count": null,
      "metadata": {
        "id": "yN8frZ5ySI6D"
      },
      "outputs": [],
      "source": [
        "!pip uninstall tensorflow\n",
        "!pip install  tensorflow==2.1.0"
      ]
    },
    {
      "cell_type": "code",
      "execution_count": null,
      "metadata": {
        "id": "TS8HkiDESZY8"
      },
      "outputs": [],
      "source": [
        "!pip install h5py==2.10.0 --force-reinstall"
      ]
    },
    {
      "cell_type": "code",
      "execution_count": 11,
      "metadata": {
        "colab": {
          "base_uri": "https://localhost:8080/",
          "height": 35
        },
        "id": "OaWXSowKSdZa",
        "outputId": "f97eff51-e120-428d-8843-a050db6402e2"
      },
      "outputs": [
        {
          "output_type": "execute_result",
          "data": {
            "text/plain": [
              "'2.1.0'"
            ],
            "application/vnd.google.colaboratory.intrinsic+json": {
              "type": "string"
            }
          },
          "metadata": {},
          "execution_count": 11
        }
      ],
      "source": [
        "import tensorflow\n",
        "tensorflow.__version__"
      ]
    },
    {
      "cell_type": "code",
      "execution_count": 12,
      "metadata": {
        "id": "iL4gdwI7SlFd"
      },
      "outputs": [],
      "source": [
        "import matplotlib.pyplot as plt\n",
        "import numpy as np\n",
        "import os\n",
        "import tensorflow as tf\n",
        "import pathlib\n",
        "\n",
        "from tensorflow.keras.applications import ResNet101V2\n",
        "from tensorflow.keras.models import Model, Sequential\n",
        "from tensorflow.keras.layers import Dense, Flatten, Dropout\n"
      ]
    },
    {
      "cell_type": "code",
      "execution_count": 21,
      "metadata": {
        "id": "LpGghmtLTGjf"
      },
      "outputs": [],
      "source": [
        "directory = 'drive/MyDrive/PHOTO_AU/'\n",
        "folder_name = ['P','TP']\n",
        "IMG_SIZE = (224,224)\n",
        "batch_size = 32\n",
        "base_learning_rate = 0.001\n",
        "IMG_SHAPE = (224,224) + (3,)\n"
      ]
    },
    {
      "cell_type": "code",
      "execution_count": 22,
      "metadata": {
        "id": "OUMfi39VTKUL"
      },
      "outputs": [],
      "source": [
        "def PhotoImport(folder_name):\n",
        "  file_list = []\n",
        "  for index in folder_name:\n",
        "    imgdir_path = pathlib.Path(directory, index )\n",
        "    last_list = sorted([str(path) for path in imgdir_path.glob('*.png')]) \n",
        "    file_list += last_list\n",
        "  \n",
        "  return file_list, [1 if 'TP' in file else 0 for file in file_list]"
      ]
    },
    {
      "cell_type": "code",
      "execution_count": 23,
      "metadata": {
        "id": "v4xLBKgJTGki"
      },
      "outputs": [],
      "source": [
        "def load_and_preprocess(path, label):\n",
        "    image = tf.io.read_file(path) \n",
        "    image = tf.image.decode_jpeg(image, channels=3)\n",
        "    image = tf.image.resize(image, IMG_SIZE)\n",
        "    \n",
        "    return (image/255.0, tf.cast(label, tf.int32))"
      ]
    },
    {
      "cell_type": "code",
      "execution_count": 24,
      "metadata": {
        "id": "8wWTt2bRTVdj"
      },
      "outputs": [],
      "source": [
        "file_list, labels = PhotoImport(folder_name)\n",
        "ds_files_labels = tf.data.Dataset.from_tensor_slices((file_list, labels))\n",
        "\n",
        "ds_files_labels = ds_files_labels.shuffle(len(file_list), reshuffle_each_iteration=False)\n",
        "\n",
        "bin_files_valid = ds_files_labels.take(673)\n",
        "bin_files_train = ds_files_labels.skip(673)\n",
        "ds_bin_train = bin_files_train.map(load_and_preprocess)\n",
        "ds_bin_valid = bin_files_valid.map(load_and_preprocess)\n",
        "ds_bin_train = ds_bin_train.batch(batch_size)\n",
        "ds_bin_valid = ds_bin_valid.batch(batch_size)"
      ]
    },
    {
      "cell_type": "code",
      "execution_count": 25,
      "metadata": {
        "id": "YGeY9jFtTdhZ"
      },
      "outputs": [],
      "source": [
        "AUTOTUNE = tf.data.experimental.AUTOTUNE\n",
        "ds_bin_train = ds_bin_train.cache().prefetch(buffer_size=AUTOTUNE)"
      ]
    },
    {
      "cell_type": "code",
      "execution_count": 26,
      "metadata": {
        "id": "d6zU2ux9TeHZ",
        "colab": {
          "base_uri": "https://localhost:8080/"
        },
        "outputId": "8578e046-3406-4605-aeb4-9b5e406013a6"
      },
      "outputs": [
        {
          "output_type": "stream",
          "name": "stdout",
          "text": [
            "Downloading data from https://github.com/keras-team/keras-applications/releases/download/resnet/resnet101v2_weights_tf_dim_ordering_tf_kernels.h5\n",
            "179519488/179518384 [==============================] - 2s 0us/step\n"
          ]
        }
      ],
      "source": [
        "base_model = ResNet101V2(input_shape= IMG_SHAPE, include_top=True, weights='imagenet')\n"
      ]
    },
    {
      "cell_type": "code",
      "execution_count": 27,
      "metadata": {
        "id": "zGHjBaSh0rQ4"
      },
      "outputs": [],
      "source": [
        "transfer_layer = base_model.get_layer('avg_pool')\n",
        "transfer_layer.output\n",
        "\n",
        "conv_model = Model(inputs=base_model.input, outputs=transfer_layer.output)\n",
        "new_model = Sequential()\n",
        "new_model.add(conv_model)\n",
        "new_model.add(Dense(1024, activation='relu'))\n",
        "new_model.add(Dropout(0.5))\n",
        "new_model.add(Dense(1, activation='sigmoid'))\n"
      ]
    },
    {
      "cell_type": "code",
      "execution_count": 28,
      "metadata": {
        "id": "42yULH0t2ey3"
      },
      "outputs": [],
      "source": [
        "conv_model.trainable = True\n",
        "for layer in conv_model.layers[:]:\n",
        "    trainable_layer = ('conv5' in layer.name)\n",
        "    layer.trainable = trainable_layer\n"
      ]
    },
    {
      "cell_type": "code",
      "execution_count": 29,
      "metadata": {
        "id": "ghxYujKh2PVf"
      },
      "outputs": [],
      "source": [
        "loss_function=tf.keras.losses.BinaryCrossentropy( from_logits= True)\n",
        "optimizer = tf.keras.optimizers.Adam(learning_rate = 0.0001)\n",
        "metrics=['accuracy']\n",
        "total_epochs =  15\n",
        "callback = tf.keras.callbacks.EarlyStopping(monitor='val_loss', patience=4, restore_best_weights = True)\n",
        "\n",
        "new_model.compile(loss=loss_function, optimizer = optimizer,  metrics=metrics)"
      ]
    },
    {
      "cell_type": "code",
      "execution_count": 30,
      "metadata": {
        "colab": {
          "base_uri": "https://localhost:8080/"
        },
        "id": "9-ZhEkYtUlRH",
        "outputId": "4e46e9e6-388d-4e69-9457-7a142aa9cff6"
      },
      "outputs": [
        {
          "output_type": "stream",
          "name": "stdout",
          "text": [
            "Train for 354 steps, validate for 22 steps\n",
            "Epoch 1/15\n",
            "354/354 [==============================] - 1640s 5s/step - loss: 0.5267 - accuracy: 0.9737 - val_loss: 0.5265 - val_accuracy: 0.9614\n",
            "Epoch 2/15\n",
            "354/354 [==============================] - 212s 598ms/step - loss: 0.5149 - accuracy: 0.9974 - val_loss: 0.5244 - val_accuracy: 0.9718\n",
            "Epoch 3/15\n",
            "354/354 [==============================] - 211s 597ms/step - loss: 0.5148 - accuracy: 0.9969 - val_loss: 0.5213 - val_accuracy: 0.9822\n",
            "Epoch 4/15\n",
            "354/354 [==============================] - 211s 595ms/step - loss: 0.5137 - accuracy: 0.9991 - val_loss: 0.5220 - val_accuracy: 0.9747\n",
            "Epoch 5/15\n",
            "354/354 [==============================] - 211s 595ms/step - loss: 0.5134 - accuracy: 0.9996 - val_loss: 0.5256 - val_accuracy: 0.9629\n",
            "Epoch 6/15\n",
            "354/354 [==============================] - 211s 595ms/step - loss: 0.5143 - accuracy: 0.9976 - val_loss: 0.5382 - val_accuracy: 0.9316\n",
            "Epoch 7/15\n",
            "354/354 [==============================] - 211s 596ms/step - loss: 0.5140 - accuracy: 0.9988 - val_loss: 0.5246 - val_accuracy: 0.9688\n"
          ]
        }
      ],
      "source": [
        "history = new_model.fit(x = ds_bin_train, \n",
        "                         epochs=total_epochs,\n",
        "                         validation_data=ds_bin_valid, callbacks=[callback])"
      ]
    },
    {
      "cell_type": "code",
      "execution_count": 31,
      "metadata": {
        "id": "NVpVAzE7UD9y",
        "colab": {
          "base_uri": "https://localhost:8080/",
          "height": 513
        },
        "outputId": "bcf1917b-4ad3-494e-dedc-08e0dca7e0aa"
      },
      "outputs": [
        {
          "output_type": "display_data",
          "data": {
            "text/plain": [
              "<Figure size 576x576 with 2 Axes>"
            ],
            "image/png": "[encoded data removed]"
          },
          "metadata": {
            "needs_background": "light"
          }
        }
      ],
      "source": [
        "acc = [0.] + history.history['accuracy']\n",
        "val_acc = [0.] + history.history['val_accuracy']\n",
        "\n",
        "loss = history.history['loss']\n",
        "val_loss = history.history['val_loss']\n",
        "\n",
        "plt.figure(figsize=(8, 8))\n",
        "plt.subplot(2, 1, 1)\n",
        "plt.plot(acc, label='Training Accuracy')\n",
        "plt.plot(val_acc, label='Validation Accuracy')\n",
        "plt.legend(loc='lower right')\n",
        "plt.ylabel('Accuracy')\n",
        "plt.ylim([min(plt.ylim()),1.05])\n",
        "plt.title('Training and Validation Accuracy')\n",
        "\n",
        "plt.subplot(2, 1, 2)\n",
        "plt.plot(loss, label='Training Loss')\n",
        "plt.plot(val_loss, label='Validation Loss')\n",
        "plt.legend(loc='upper right')\n",
        "plt.ylabel('Cross Entropy')\n",
        "plt.ylim([0,1])\n",
        "plt.title('Training and Validation Loss')\n",
        "plt.xlabel('epoch')\n",
        "plt.show()"
      ]
    },
    {
      "cell_type": "code",
      "execution_count": 32,
      "metadata": {
        "id": "M7nW56bIVIXV"
      },
      "outputs": [],
      "source": [
        "new_model.save( 'drive/MyDrive/rubbish_classifier_model_A_0001.h5', overwrite = True, include_optimizer = True, save_format = 'h5')"
      ]
    }
  ],
  "metadata": {
    "colab": {
      "name": "training_model.ipynb",
      "provenance": [],
      "collapsed_sections": [],
      "mount_file_id": "1G3cocJALmnGz1wN_yAQaxh80Sg3Foc0u",
      "authorship_tag": "ABX9TyNzX7ps2bc0d/wKVzv50wj1",
      "include_colab_link": true
    },
    "kernelspec": {
      "display_name": "Python 3",
      "name": "python3"
    },
    "language_info": {
      "name": "python"
    },
    "accelerator": "GPU"
  },
  "nbformat": 4,
  "nbformat_minor": 0
}